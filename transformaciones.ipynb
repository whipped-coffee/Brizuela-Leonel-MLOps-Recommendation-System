{
 "cells": [
  {
   "cell_type": "code",
   "execution_count": 1,
   "metadata": {},
   "outputs": [],
   "source": [
    "import pandas as pd"
   ]
  },
  {
   "attachments": {},
   "cell_type": "markdown",
   "metadata": {},
   "source": [
    "Import the dataset as a DataFrame and storage it in the data variable"
   ]
  },
  {
   "cell_type": "code",
   "execution_count": 2,
   "metadata": {},
   "outputs": [
    {
     "name": "stderr",
     "output_type": "stream",
     "text": [
      "C:\\Users\\Usuario\\AppData\\Local\\Temp\\ipykernel_13816\\593806153.py:1: DtypeWarning: Columns (10) have mixed types. Specify dtype option on import or set low_memory=False.\n",
      "  data = pd.read_csv('_src/data/movies_dataset.csv', encoding='UTF-8', delimiter=',', )\n"
     ]
    }
   ],
   "source": [
    "data = pd.read_csv('_src/data/movies_dataset.csv', encoding='UTF-8', delimiter=',', )"
   ]
  },
  {
   "attachments": {},
   "cell_type": "markdown",
   "metadata": {},
   "source": [
    "Import the credits dataset for later on extract the director name"
   ]
  },
  {
   "cell_type": "code",
   "execution_count": 3,
   "metadata": {},
   "outputs": [],
   "source": [
    "credits = pd.read_csv('_src/data/credits.csv')\n",
    "credits.drop(columns=['cast'], inplace=True)"
   ]
  },
  {
   "attachments": {},
   "cell_type": "markdown",
   "metadata": {},
   "source": [
    "Transforme id into a integer"
   ]
  },
  {
   "cell_type": "code",
   "execution_count": 4,
   "metadata": {},
   "outputs": [
    {
     "name": "stdout",
     "output_type": "stream",
     "text": [
      "invalid literal for int() with base 10: '1997-08-20'\n"
     ]
    }
   ],
   "source": [
    "try:\n",
    "    data['id'].astype(int)\n",
    "except ValueError as e:\n",
    "    print(e)"
   ]
  },
  {
   "attachments": {},
   "cell_type": "markdown",
   "metadata": {},
   "source": [
    "We can see that the data is all wrong, so we drop it"
   ]
  },
  {
   "cell_type": "code",
   "execution_count": 5,
   "metadata": {},
   "outputs": [],
   "source": [
    "data.drop(data.loc[data['id'].str.contains('-', regex=True)].index, inplace=True)"
   ]
  },
  {
   "cell_type": "code",
   "execution_count": 6,
   "metadata": {},
   "outputs": [],
   "source": [
    "data['id'] = data['id'].astype(int)"
   ]
  },
  {
   "attachments": {},
   "cell_type": "markdown",
   "metadata": {},
   "source": [
    "Merge the dataframes so we work with only 1"
   ]
  },
  {
   "cell_type": "code",
   "execution_count": 7,
   "metadata": {},
   "outputs": [],
   "source": [
    "data = pd.merge(data,credits, on='id')"
   ]
  },
  {
   "attachments": {},
   "cell_type": "markdown",
   "metadata": {},
   "source": [
    "Drop the innecesary columns"
   ]
  },
  {
   "cell_type": "code",
   "execution_count": 8,
   "metadata": {},
   "outputs": [],
   "source": [
    "data.drop(columns=['adult','homepage','imdb_id','original_title','poster_path','video'], inplace = True)"
   ]
  },
  {
   "attachments": {},
   "cell_type": "markdown",
   "metadata": {},
   "source": [
    "### Extract the nested data that we need and create its dataframe's columns ### "
   ]
  },
  {
   "attachments": {},
   "cell_type": "markdown",
   "metadata": {},
   "source": [
    "Nested data in 'belongs_to_collection'"
   ]
  },
  {
   "cell_type": "code",
   "execution_count": 9,
   "metadata": {},
   "outputs": [
    {
     "name": "stderr",
     "output_type": "stream",
     "text": [
      "C:\\Users\\Usuario\\AppData\\Local\\Temp\\ipykernel_13816\\757821891.py:7: SettingWithCopyWarning: \n",
      "A value is trying to be set on a copy of a slice from a DataFrame\n",
      "\n",
      "See the caveats in the documentation: https://pandas.pydata.org/pandas-docs/stable/user_guide/indexing.html#returning-a-view-versus-a-copy\n",
      "  data['belongs_to_collection'][i] = data['belongs_to_collection'][i].split(',')\n"
     ]
    }
   ],
   "source": [
    "#Crate the new columns of the DataFrame\n",
    "data['collection_name'] = 0\n",
    "\n",
    "#Asign to the new columns the values in belongs_to_collecition < id and name\n",
    "for i in range(len(data['belongs_to_collection'])):\n",
    "    if (len(str(data['belongs_to_collection'][i])) > 10):\n",
    "        data['belongs_to_collection'][i] = data['belongs_to_collection'][i].split(',')\n",
    "        data.loc[i, 'collection_name'] = data['belongs_to_collection'][i][1][10:-1]\n",
    "\n",
    "#Drop belongs_to_collection\n",
    "data.drop(columns = 'belongs_to_collection', inplace = True)"
   ]
  },
  {
   "attachments": {},
   "cell_type": "markdown",
   "metadata": {},
   "source": [
    "nested data in 'crew'"
   ]
  },
  {
   "cell_type": "code",
   "execution_count": 10,
   "metadata": {},
   "outputs": [],
   "source": [
    "def extract_director(crew_str):    \n",
    "    crew_list = crew_str.split('Director')\n",
    "    if(len(crew_list) > 1):\n",
    "        director = crew_list[1].split(',') \n",
    "        return director[1][10:-1]       \n",
    "\n",
    "data['director'] = data['crew'].apply(extract_director)\n",
    "\n",
    "data.drop(columns='crew', inplace = True)"
   ]
  },
  {
   "attachments": {},
   "cell_type": "markdown",
   "metadata": {},
   "source": [
    "Nested data in 'genres'"
   ]
  },
  {
   "cell_type": "code",
   "execution_count": 11,
   "metadata": {},
   "outputs": [],
   "source": [
    "# Define a function to extract genre names from genres\n",
    "def extract_genre_names(genres_str):\n",
    "    if(len(str(genres_str)) > 4):\n",
    "        genre_list = genres_str.split(',')\n",
    "        genre_names = [element.strip(']')[10:-2] for element in genre_list if element[2:6] == 'name']\n",
    "        return ','.join(genre_names)\n",
    "\n",
    "# Apply the function to create the 'genres_list' column\n",
    "data['genres_list'] = data['genres'].apply(extract_genre_names)\n",
    "\n",
    "# Drop 'genres' column\n",
    "data.drop(columns='genres', inplace=True)"
   ]
  },
  {
   "attachments": {},
   "cell_type": "markdown",
   "metadata": {},
   "source": [
    "Nested data in 'production_companies'"
   ]
  },
  {
   "cell_type": "code",
   "execution_count": 12,
   "metadata": {},
   "outputs": [],
   "source": [
    "#Crate the new columns of the DataFrame\n",
    "data['prod_companies'] = ''\n",
    "\n",
    "def extract_comp_names(comp_str):\n",
    "    if(len(str(comp_str)) > 4):\n",
    "        genre_list = comp_str.split(',')\n",
    "        comp_names = [element.strip(']')[11:-1] for element in genre_list if element[3:7] == 'name']\n",
    "        return ','.join(comp_names)\n",
    "\n",
    "# Apply the function to create the 'genres_list' column\n",
    "data['prod_companies'] = data['production_companies'].apply(extract_comp_names)\n",
    "\n",
    "# Drop 'genres' column\n",
    "data.drop(columns='production_companies', inplace = True)\n",
    "\n",
    "data['prod_companies'].fillna('None', inplace = True)"
   ]
  },
  {
   "attachments": {},
   "cell_type": "markdown",
   "metadata": {},
   "source": [
    "Nested data in 'production_countries'"
   ]
  },
  {
   "cell_type": "code",
   "execution_count": 13,
   "metadata": {},
   "outputs": [],
   "source": [
    "data['prod_country'] = data['production_countries'].apply(lambda x: x.split(',')[1][10:-2].strip(\"'\") if len(str(x)) > 4 else '')\n",
    "\n",
    "data.drop(columns='production_countries', inplace=True)"
   ]
  },
  {
   "attachments": {},
   "cell_type": "markdown",
   "metadata": {},
   "source": [
    "Nested data in 'spoken_languages'"
   ]
  },
  {
   "cell_type": "code",
   "execution_count": 14,
   "metadata": {},
   "outputs": [],
   "source": [
    "data['release_language'] = data['spoken_languages'].apply(lambda x: x.split(',')[1][10:-2].strip(\"'\") if len(str(x)) > 4 else '')\n",
    "\n",
    "data.drop(columns='spoken_languages', inplace=True)"
   ]
  },
  {
   "cell_type": "code",
   "execution_count": 15,
   "metadata": {},
   "outputs": [
    {
     "data": {
      "text/html": [
       "<div>\n",
       "<style scoped>\n",
       "    .dataframe tbody tr th:only-of-type {\n",
       "        vertical-align: middle;\n",
       "    }\n",
       "\n",
       "    .dataframe tbody tr th {\n",
       "        vertical-align: top;\n",
       "    }\n",
       "\n",
       "    .dataframe thead th {\n",
       "        text-align: right;\n",
       "    }\n",
       "</style>\n",
       "<table border=\"1\" class=\"dataframe\">\n",
       "  <thead>\n",
       "    <tr style=\"text-align: right;\">\n",
       "      <th></th>\n",
       "      <th>budget</th>\n",
       "      <th>id</th>\n",
       "      <th>original_language</th>\n",
       "      <th>overview</th>\n",
       "      <th>popularity</th>\n",
       "      <th>release_date</th>\n",
       "      <th>revenue</th>\n",
       "      <th>runtime</th>\n",
       "      <th>status</th>\n",
       "      <th>tagline</th>\n",
       "      <th>title</th>\n",
       "      <th>vote_average</th>\n",
       "      <th>vote_count</th>\n",
       "      <th>collection_name</th>\n",
       "      <th>director</th>\n",
       "      <th>genres_list</th>\n",
       "      <th>prod_companies</th>\n",
       "      <th>prod_country</th>\n",
       "      <th>release_language</th>\n",
       "    </tr>\n",
       "  </thead>\n",
       "  <tbody>\n",
       "    <tr>\n",
       "      <th>0</th>\n",
       "      <td>30000000</td>\n",
       "      <td>862</td>\n",
       "      <td>en</td>\n",
       "      <td>Led by Woody, Andy's toys live happily in his ...</td>\n",
       "      <td>21.946943</td>\n",
       "      <td>1995-10-30</td>\n",
       "      <td>373554033.0</td>\n",
       "      <td>81.0</td>\n",
       "      <td>Released</td>\n",
       "      <td>NaN</td>\n",
       "      <td>Toy Story</td>\n",
       "      <td>7.7</td>\n",
       "      <td>5415.0</td>\n",
       "      <td>Toy Story Collection</td>\n",
       "      <td>John Lasseter</td>\n",
       "      <td>Animation,Comedy,Family</td>\n",
       "      <td>Pixar Animation Studios</td>\n",
       "      <td>United States of America</td>\n",
       "      <td>English</td>\n",
       "    </tr>\n",
       "    <tr>\n",
       "      <th>1</th>\n",
       "      <td>65000000</td>\n",
       "      <td>8844</td>\n",
       "      <td>en</td>\n",
       "      <td>When siblings Judy and Peter discover an encha...</td>\n",
       "      <td>17.015539</td>\n",
       "      <td>1995-12-15</td>\n",
       "      <td>262797249.0</td>\n",
       "      <td>104.0</td>\n",
       "      <td>Released</td>\n",
       "      <td>Roll the dice and unleash the excitement!</td>\n",
       "      <td>Jumanji</td>\n",
       "      <td>6.9</td>\n",
       "      <td>2413.0</td>\n",
       "      <td>0</td>\n",
       "      <td>Joe Johnston</td>\n",
       "      <td>Adventure,Fantasy,Family</td>\n",
       "      <td>TriStar Pictures,Teitler Film,Interscope Commu...</td>\n",
       "      <td>United States of America</td>\n",
       "      <td>English</td>\n",
       "    </tr>\n",
       "    <tr>\n",
       "      <th>2</th>\n",
       "      <td>0</td>\n",
       "      <td>15602</td>\n",
       "      <td>en</td>\n",
       "      <td>A family wedding reignites the ancient feud be...</td>\n",
       "      <td>11.7129</td>\n",
       "      <td>1995-12-22</td>\n",
       "      <td>0.0</td>\n",
       "      <td>101.0</td>\n",
       "      <td>Released</td>\n",
       "      <td>Still Yelling. Still Fighting. Still Ready for...</td>\n",
       "      <td>Grumpier Old Men</td>\n",
       "      <td>6.5</td>\n",
       "      <td>92.0</td>\n",
       "      <td>Grumpy Old Men Collection</td>\n",
       "      <td>Howard Deutch</td>\n",
       "      <td>Romance,Comedy</td>\n",
       "      <td>Warner Bros.,Lancaster Gate</td>\n",
       "      <td>United States of America</td>\n",
       "      <td>English</td>\n",
       "    </tr>\n",
       "    <tr>\n",
       "      <th>3</th>\n",
       "      <td>16000000</td>\n",
       "      <td>31357</td>\n",
       "      <td>en</td>\n",
       "      <td>Cheated on, mistreated and stepped on, the wom...</td>\n",
       "      <td>3.859495</td>\n",
       "      <td>1995-12-22</td>\n",
       "      <td>81452156.0</td>\n",
       "      <td>127.0</td>\n",
       "      <td>Released</td>\n",
       "      <td>Friends are the people who let you be yourself...</td>\n",
       "      <td>Waiting to Exhale</td>\n",
       "      <td>6.1</td>\n",
       "      <td>34.0</td>\n",
       "      <td>0</td>\n",
       "      <td>Forest Whitaker</td>\n",
       "      <td>Comedy,Drama,Romance</td>\n",
       "      <td>Twentieth Century Fox Film Corporation</td>\n",
       "      <td>United States of America</td>\n",
       "      <td>English</td>\n",
       "    </tr>\n",
       "    <tr>\n",
       "      <th>4</th>\n",
       "      <td>0</td>\n",
       "      <td>11862</td>\n",
       "      <td>en</td>\n",
       "      <td>Just when George Banks has recovered from his ...</td>\n",
       "      <td>8.387519</td>\n",
       "      <td>1995-02-10</td>\n",
       "      <td>76578911.0</td>\n",
       "      <td>106.0</td>\n",
       "      <td>Released</td>\n",
       "      <td>Just When His World Is Back To Normal... He's ...</td>\n",
       "      <td>Father of the Bride Part II</td>\n",
       "      <td>5.7</td>\n",
       "      <td>173.0</td>\n",
       "      <td>Father of the Bride Collection</td>\n",
       "      <td>Elliot Davis</td>\n",
       "      <td>Comedy</td>\n",
       "      <td>Sandollar Productions,Touchstone Pictures</td>\n",
       "      <td>United States of America</td>\n",
       "      <td>English</td>\n",
       "    </tr>\n",
       "    <tr>\n",
       "      <th>5</th>\n",
       "      <td>60000000</td>\n",
       "      <td>949</td>\n",
       "      <td>en</td>\n",
       "      <td>Obsessive master thief, Neil McCauley leads a ...</td>\n",
       "      <td>17.924927</td>\n",
       "      <td>1995-12-15</td>\n",
       "      <td>187436818.0</td>\n",
       "      <td>170.0</td>\n",
       "      <td>Released</td>\n",
       "      <td>A Los Angeles Crime Saga</td>\n",
       "      <td>Heat</td>\n",
       "      <td>7.7</td>\n",
       "      <td>1886.0</td>\n",
       "      <td>0</td>\n",
       "      <td>Michael Mann</td>\n",
       "      <td>Action,Crime,Drama,Thriller</td>\n",
       "      <td>Regency Enterprises,Forward Pass,Warner Bros.</td>\n",
       "      <td>United States of America</td>\n",
       "      <td>English</td>\n",
       "    </tr>\n",
       "    <tr>\n",
       "      <th>6</th>\n",
       "      <td>58000000</td>\n",
       "      <td>11860</td>\n",
       "      <td>en</td>\n",
       "      <td>An ugly duckling having undergone a remarkable...</td>\n",
       "      <td>6.677277</td>\n",
       "      <td>1995-12-15</td>\n",
       "      <td>0.0</td>\n",
       "      <td>127.0</td>\n",
       "      <td>Released</td>\n",
       "      <td>You are cordially invited to the most surprisi...</td>\n",
       "      <td>Sabrina</td>\n",
       "      <td>6.2</td>\n",
       "      <td>141.0</td>\n",
       "      <td>0</td>\n",
       "      <td>Sydney Pollack</td>\n",
       "      <td>Comedy,Romance</td>\n",
       "      <td>Paramount Pictures,Scott Rudin Productions,Mir...</td>\n",
       "      <td>Germany</td>\n",
       "      <td>Français</td>\n",
       "    </tr>\n",
       "    <tr>\n",
       "      <th>7</th>\n",
       "      <td>0</td>\n",
       "      <td>45325</td>\n",
       "      <td>en</td>\n",
       "      <td>A mischievous young boy, Tom Sawyer, witnesses...</td>\n",
       "      <td>2.561161</td>\n",
       "      <td>1995-12-22</td>\n",
       "      <td>0.0</td>\n",
       "      <td>97.0</td>\n",
       "      <td>Released</td>\n",
       "      <td>The Original Bad Boys.</td>\n",
       "      <td>Tom and Huck</td>\n",
       "      <td>5.4</td>\n",
       "      <td>45.0</td>\n",
       "      <td>0</td>\n",
       "      <td>Peter Hewitt</td>\n",
       "      <td>Action,Adventure,Drama,Family</td>\n",
       "      <td>Walt Disney Pictures</td>\n",
       "      <td>United States of America</td>\n",
       "      <td>English</td>\n",
       "    </tr>\n",
       "  </tbody>\n",
       "</table>\n",
       "</div>"
      ],
      "text/plain": [
       "     budget     id original_language  \\\n",
       "0  30000000    862                en   \n",
       "1  65000000   8844                en   \n",
       "2         0  15602                en   \n",
       "3  16000000  31357                en   \n",
       "4         0  11862                en   \n",
       "5  60000000    949                en   \n",
       "6  58000000  11860                en   \n",
       "7         0  45325                en   \n",
       "\n",
       "                                            overview popularity release_date  \\\n",
       "0  Led by Woody, Andy's toys live happily in his ...  21.946943   1995-10-30   \n",
       "1  When siblings Judy and Peter discover an encha...  17.015539   1995-12-15   \n",
       "2  A family wedding reignites the ancient feud be...    11.7129   1995-12-22   \n",
       "3  Cheated on, mistreated and stepped on, the wom...   3.859495   1995-12-22   \n",
       "4  Just when George Banks has recovered from his ...   8.387519   1995-02-10   \n",
       "5  Obsessive master thief, Neil McCauley leads a ...  17.924927   1995-12-15   \n",
       "6  An ugly duckling having undergone a remarkable...   6.677277   1995-12-15   \n",
       "7  A mischievous young boy, Tom Sawyer, witnesses...   2.561161   1995-12-22   \n",
       "\n",
       "       revenue  runtime    status  \\\n",
       "0  373554033.0     81.0  Released   \n",
       "1  262797249.0    104.0  Released   \n",
       "2          0.0    101.0  Released   \n",
       "3   81452156.0    127.0  Released   \n",
       "4   76578911.0    106.0  Released   \n",
       "5  187436818.0    170.0  Released   \n",
       "6          0.0    127.0  Released   \n",
       "7          0.0     97.0  Released   \n",
       "\n",
       "                                             tagline  \\\n",
       "0                                                NaN   \n",
       "1          Roll the dice and unleash the excitement!   \n",
       "2  Still Yelling. Still Fighting. Still Ready for...   \n",
       "3  Friends are the people who let you be yourself...   \n",
       "4  Just When His World Is Back To Normal... He's ...   \n",
       "5                           A Los Angeles Crime Saga   \n",
       "6  You are cordially invited to the most surprisi...   \n",
       "7                             The Original Bad Boys.   \n",
       "\n",
       "                         title  vote_average  vote_count  \\\n",
       "0                    Toy Story           7.7      5415.0   \n",
       "1                      Jumanji           6.9      2413.0   \n",
       "2             Grumpier Old Men           6.5        92.0   \n",
       "3            Waiting to Exhale           6.1        34.0   \n",
       "4  Father of the Bride Part II           5.7       173.0   \n",
       "5                         Heat           7.7      1886.0   \n",
       "6                      Sabrina           6.2       141.0   \n",
       "7                 Tom and Huck           5.4        45.0   \n",
       "\n",
       "                  collection_name         director  \\\n",
       "0            Toy Story Collection    John Lasseter   \n",
       "1                               0     Joe Johnston   \n",
       "2       Grumpy Old Men Collection    Howard Deutch   \n",
       "3                               0  Forest Whitaker   \n",
       "4  Father of the Bride Collection     Elliot Davis   \n",
       "5                               0     Michael Mann   \n",
       "6                               0   Sydney Pollack   \n",
       "7                               0     Peter Hewitt   \n",
       "\n",
       "                     genres_list  \\\n",
       "0        Animation,Comedy,Family   \n",
       "1       Adventure,Fantasy,Family   \n",
       "2                 Romance,Comedy   \n",
       "3           Comedy,Drama,Romance   \n",
       "4                         Comedy   \n",
       "5    Action,Crime,Drama,Thriller   \n",
       "6                 Comedy,Romance   \n",
       "7  Action,Adventure,Drama,Family   \n",
       "\n",
       "                                      prod_companies  \\\n",
       "0                            Pixar Animation Studios   \n",
       "1  TriStar Pictures,Teitler Film,Interscope Commu...   \n",
       "2                        Warner Bros.,Lancaster Gate   \n",
       "3             Twentieth Century Fox Film Corporation   \n",
       "4          Sandollar Productions,Touchstone Pictures   \n",
       "5      Regency Enterprises,Forward Pass,Warner Bros.   \n",
       "6  Paramount Pictures,Scott Rudin Productions,Mir...   \n",
       "7                               Walt Disney Pictures   \n",
       "\n",
       "               prod_country release_language  \n",
       "0  United States of America          English  \n",
       "1  United States of America          English  \n",
       "2  United States of America          English  \n",
       "3  United States of America          English  \n",
       "4  United States of America          English  \n",
       "5  United States of America          English  \n",
       "6                   Germany         Français  \n",
       "7  United States of America          English  "
      ]
     },
     "execution_count": 15,
     "metadata": {},
     "output_type": "execute_result"
    }
   ],
   "source": [
    "data.head(8)"
   ]
  },
  {
   "attachments": {},
   "cell_type": "markdown",
   "metadata": {},
   "source": [
    "Create a column 'return' with the return of investmen. (revenue / budget). In case that there is no data to operate it has to take the value '0' "
   ]
  },
  {
   "attachments": {},
   "cell_type": "markdown",
   "metadata": {},
   "source": [
    "Fill the nulls values in budget and revenue with 0"
   ]
  },
  {
   "cell_type": "code",
   "execution_count": 16,
   "metadata": {},
   "outputs": [],
   "source": [
    "fill_values = {'revenue': 0, 'budget': 0}\n",
    "data.fillna(fill_values, inplace=True)"
   ]
  },
  {
   "attachments": {},
   "cell_type": "markdown",
   "metadata": {},
   "source": [
    "Now that we have all the data, we change the dtypes of the necesary columns to make the operations"
   ]
  },
  {
   "cell_type": "code",
   "execution_count": 17,
   "metadata": {},
   "outputs": [
    {
     "name": "stderr",
     "output_type": "stream",
     "text": [
      "c:\\Users\\Usuario\\AppData\\Local\\Programs\\Python\\Python311\\Lib\\site-packages\\pandas\\core\\dtypes\\astype.py:189: RuntimeWarning: invalid value encountered in cast\n",
      "  return values.astype(dtype, copy=copy)\n"
     ]
    }
   ],
   "source": [
    "int_columns = ['budget','revenue']\n",
    "float_columns = ['popularity','vote_average']\n",
    "\n",
    "data[int_columns] = data[int_columns].astype(int)\n",
    "data[float_columns] = data[float_columns].astype(float)"
   ]
  },
  {
   "attachments": {},
   "cell_type": "markdown",
   "metadata": {},
   "source": [
    "Create the 'return' column"
   ]
  },
  {
   "cell_type": "code",
   "execution_count": 18,
   "metadata": {},
   "outputs": [],
   "source": [
    "data['return'] = round(data['revenue'] / data['budget'],2)"
   ]
  },
  {
   "cell_type": "code",
   "execution_count": 19,
   "metadata": {},
   "outputs": [],
   "source": [
    "data.loc[data['return'] == float('inf'), 'return'] = data['revenue']"
   ]
  },
  {
   "attachments": {},
   "cell_type": "markdown",
   "metadata": {},
   "source": [
    "The dates has to have the format AAAA-mm-dd, and with that create the column release_year where we will extract the year of release"
   ]
  },
  {
   "cell_type": "code",
   "execution_count": 20,
   "metadata": {},
   "outputs": [],
   "source": [
    "data['release_date'] = pd.to_datetime(data['release_date'])\n",
    "data.dropna(subset=['release_date'], inplace=True)\n",
    "data['release_year'] = data['release_date'].dt.year"
   ]
  },
  {
   "cell_type": "code",
   "execution_count": 21,
   "metadata": {},
   "outputs": [],
   "source": [
    "new_columns = ['collection_name','director', 'genres_list', 'id', \n",
    "               'title', 'prod_companies', 'prod_country', 'original_language', \n",
    "               'release_language', 'overview', 'popularity', 'release_date','release_year', 'runtime', \n",
    "               'status', 'tagline', 'vote_average', 'vote_count', 'budget', 'revenue','return']\n",
    "data = data.reindex(columns = new_columns)"
   ]
  },
  {
   "cell_type": "code",
   "execution_count": 22,
   "metadata": {},
   "outputs": [
    {
     "data": {
      "text/plain": [
       "Series([], Name: title, dtype: object)"
      ]
     },
     "execution_count": 22,
     "metadata": {},
     "output_type": "execute_result"
    }
   ],
   "source": [
    "data.loc[data['prod_companies'].isna(), 'title']"
   ]
  },
  {
   "attachments": {},
   "cell_type": "markdown",
   "metadata": {},
   "source": [
    "Drop the movies with no release-date"
   ]
  },
  {
   "cell_type": "code",
   "execution_count": 23,
   "metadata": {},
   "outputs": [],
   "source": [
    "data.to_csv('_src/data/movies_normalized.csv', index=False)"
   ]
  }
 ],
 "metadata": {
  "kernelspec": {
   "display_name": "Python 3",
   "language": "python",
   "name": "python3"
  },
  "language_info": {
   "codemirror_mode": {
    "name": "ipython",
    "version": 3
   },
   "file_extension": ".py",
   "mimetype": "text/x-python",
   "name": "python",
   "nbconvert_exporter": "python",
   "pygments_lexer": "ipython3",
   "version": "3.11.0"
  },
  "orig_nbformat": 4
 },
 "nbformat": 4,
 "nbformat_minor": 2
}
