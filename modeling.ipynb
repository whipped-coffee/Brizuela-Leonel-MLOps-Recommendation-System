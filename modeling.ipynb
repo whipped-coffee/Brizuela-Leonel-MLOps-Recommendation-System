{
 "cells": [
  {
   "cell_type": "markdown",
   "metadata": {},
   "source": [
    "# _`MODELING`_"
   ]
  },
  {
   "cell_type": "markdown",
   "metadata": {},
   "source": [
    "Import the libraries"
   ]
  },
  {
   "cell_type": "code",
   "execution_count": 1,
   "metadata": {},
   "outputs": [],
   "source": [
    "import pandas as pd\n",
    "import numpy as np\n",
    "from sklearn.metrics.pairwise import cosine_similarity\n",
    "from sklearn.feature_extraction.text import CountVectorizer\n",
    "import joblib"
   ]
  },
  {
   "cell_type": "markdown",
   "metadata": {},
   "source": [
    "Load the data"
   ]
  },
  {
   "cell_type": "code",
   "execution_count": 2,
   "metadata": {},
   "outputs": [],
   "source": [
    "data = pd.read_csv('_src/data/model_data.csv')"
   ]
  },
  {
   "cell_type": "code",
   "execution_count": 3,
   "metadata": {},
   "outputs": [
    {
     "data": {
      "text/html": [
       "<div>\n",
       "<style scoped>\n",
       "    .dataframe tbody tr th:only-of-type {\n",
       "        vertical-align: middle;\n",
       "    }\n",
       "\n",
       "    .dataframe tbody tr th {\n",
       "        vertical-align: top;\n",
       "    }\n",
       "\n",
       "    .dataframe thead th {\n",
       "        text-align: right;\n",
       "    }\n",
       "</style>\n",
       "<table border=\"1\" class=\"dataframe\">\n",
       "  <thead>\n",
       "    <tr style=\"text-align: right;\">\n",
       "      <th></th>\n",
       "      <th>id</th>\n",
       "      <th>title</th>\n",
       "      <th>directors</th>\n",
       "      <th>genres_list</th>\n",
       "      <th>prod_companies</th>\n",
       "      <th>vote_average</th>\n",
       "    </tr>\n",
       "  </thead>\n",
       "  <tbody>\n",
       "    <tr>\n",
       "      <th>0</th>\n",
       "      <td>862</td>\n",
       "      <td>Toy Story</td>\n",
       "      <td>John Lasseter</td>\n",
       "      <td>Animation,Comedy,Family</td>\n",
       "      <td>Pixar Animation Studios</td>\n",
       "      <td>7.7</td>\n",
       "    </tr>\n",
       "    <tr>\n",
       "      <th>1</th>\n",
       "      <td>8844</td>\n",
       "      <td>Jumanji</td>\n",
       "      <td>Joe Johnston</td>\n",
       "      <td>Adventure,Fantasy,Family</td>\n",
       "      <td>TriStar Pictures,Teitler Film,Interscope Commu...</td>\n",
       "      <td>6.9</td>\n",
       "    </tr>\n",
       "    <tr>\n",
       "      <th>2</th>\n",
       "      <td>15602</td>\n",
       "      <td>Grumpier Old Men</td>\n",
       "      <td>Howard Deutch</td>\n",
       "      <td>Romance,Comedy</td>\n",
       "      <td>Warner Bros.,Lancaster Gate</td>\n",
       "      <td>6.5</td>\n",
       "    </tr>\n",
       "    <tr>\n",
       "      <th>3</th>\n",
       "      <td>31357</td>\n",
       "      <td>Waiting to Exhale</td>\n",
       "      <td>Forest Whitaker</td>\n",
       "      <td>Comedy,Drama,Romance</td>\n",
       "      <td>Twentieth Century Fox Film Corporation</td>\n",
       "      <td>6.1</td>\n",
       "    </tr>\n",
       "    <tr>\n",
       "      <th>4</th>\n",
       "      <td>11862</td>\n",
       "      <td>Father of the Bride Part II</td>\n",
       "      <td>Charles Shyer</td>\n",
       "      <td>Comedy</td>\n",
       "      <td>Sandollar Productions,Touchstone Pictures</td>\n",
       "      <td>5.7</td>\n",
       "    </tr>\n",
       "  </tbody>\n",
       "</table>\n",
       "</div>"
      ],
      "text/plain": [
       "      id                        title        directors  \\\n",
       "0    862                    Toy Story    John Lasseter   \n",
       "1   8844                      Jumanji     Joe Johnston   \n",
       "2  15602             Grumpier Old Men    Howard Deutch   \n",
       "3  31357            Waiting to Exhale  Forest Whitaker   \n",
       "4  11862  Father of the Bride Part II    Charles Shyer   \n",
       "\n",
       "                genres_list  \\\n",
       "0   Animation,Comedy,Family   \n",
       "1  Adventure,Fantasy,Family   \n",
       "2            Romance,Comedy   \n",
       "3      Comedy,Drama,Romance   \n",
       "4                    Comedy   \n",
       "\n",
       "                                      prod_companies  vote_average  \n",
       "0                            Pixar Animation Studios           7.7  \n",
       "1  TriStar Pictures,Teitler Film,Interscope Commu...           6.9  \n",
       "2                        Warner Bros.,Lancaster Gate           6.5  \n",
       "3             Twentieth Century Fox Film Corporation           6.1  \n",
       "4          Sandollar Productions,Touchstone Pictures           5.7  "
      ]
     },
     "execution_count": 3,
     "metadata": {},
     "output_type": "execute_result"
    }
   ],
   "source": [
    "data.head()"
   ]
  },
  {
   "cell_type": "markdown",
   "metadata": {},
   "source": [
    "In our recommendation model we are going to use cosine similarity, so we firts fill the `Na, commas, and numerical values` of the features ['directors', 'genres_list', 'prod_companies'] with empty spaces, and group them in a new column"
   ]
  },
  {
   "cell_type": "code",
   "execution_count": 5,
   "metadata": {},
   "outputs": [],
   "source": [
    "data['grouped_data'] = data['directors'].fillna('') + ' '\n",
    "data['grouped_data'] += (data['genres_list']).fillna('') + ' '\n",
    "data['grouped_data'] += data['prod_companies'].fillna('') \n",
    "data['grouped_data'] = data['grouped_data'].str.replace(',',' ')\n",
    "\n",
    "#Numerical values {0..9}\n",
    "for i in range(10):\n",
    "    data['grouped_data'] = data['grouped_data'].str.replace(f'{i}','')\n"
   ]
  },
  {
   "cell_type": "markdown",
   "metadata": {},
   "source": [
    "Because we have limited processing power we are going to work with a reduced dataset of the first 10000 instances"
   ]
  },
  {
   "cell_type": "code",
   "execution_count": 8,
   "metadata": {},
   "outputs": [],
   "source": [
    "reduced_data = data.head(10000)"
   ]
  },
  {
   "cell_type": "code",
   "execution_count": 9,
   "metadata": {},
   "outputs": [
    {
     "data": {
      "text/html": [
       "<div>\n",
       "<style scoped>\n",
       "    .dataframe tbody tr th:only-of-type {\n",
       "        vertical-align: middle;\n",
       "    }\n",
       "\n",
       "    .dataframe tbody tr th {\n",
       "        vertical-align: top;\n",
       "    }\n",
       "\n",
       "    .dataframe thead th {\n",
       "        text-align: right;\n",
       "    }\n",
       "</style>\n",
       "<table border=\"1\" class=\"dataframe\">\n",
       "  <thead>\n",
       "    <tr style=\"text-align: right;\">\n",
       "      <th></th>\n",
       "      <th>id</th>\n",
       "      <th>title</th>\n",
       "      <th>directors</th>\n",
       "      <th>genres_list</th>\n",
       "      <th>prod_companies</th>\n",
       "      <th>vote_average</th>\n",
       "      <th>grouped_data</th>\n",
       "    </tr>\n",
       "  </thead>\n",
       "  <tbody>\n",
       "    <tr>\n",
       "      <th>0</th>\n",
       "      <td>862</td>\n",
       "      <td>Toy Story</td>\n",
       "      <td>John Lasseter</td>\n",
       "      <td>Animation,Comedy,Family</td>\n",
       "      <td>Pixar Animation Studios</td>\n",
       "      <td>7.7</td>\n",
       "      <td>John Lasseter Animation Comedy Family Pixar An...</td>\n",
       "    </tr>\n",
       "    <tr>\n",
       "      <th>1</th>\n",
       "      <td>8844</td>\n",
       "      <td>Jumanji</td>\n",
       "      <td>Joe Johnston</td>\n",
       "      <td>Adventure,Fantasy,Family</td>\n",
       "      <td>TriStar Pictures,Teitler Film,Interscope Commu...</td>\n",
       "      <td>6.9</td>\n",
       "      <td>Joe Johnston Adventure Fantasy Family TriStar ...</td>\n",
       "    </tr>\n",
       "    <tr>\n",
       "      <th>2</th>\n",
       "      <td>15602</td>\n",
       "      <td>Grumpier Old Men</td>\n",
       "      <td>Howard Deutch</td>\n",
       "      <td>Romance,Comedy</td>\n",
       "      <td>Warner Bros.,Lancaster Gate</td>\n",
       "      <td>6.5</td>\n",
       "      <td>Howard Deutch Romance Comedy Warner Bros. Lanc...</td>\n",
       "    </tr>\n",
       "    <tr>\n",
       "      <th>3</th>\n",
       "      <td>31357</td>\n",
       "      <td>Waiting to Exhale</td>\n",
       "      <td>Forest Whitaker</td>\n",
       "      <td>Comedy,Drama,Romance</td>\n",
       "      <td>Twentieth Century Fox Film Corporation</td>\n",
       "      <td>6.1</td>\n",
       "      <td>Forest Whitaker Comedy Drama Romance Twentieth...</td>\n",
       "    </tr>\n",
       "    <tr>\n",
       "      <th>4</th>\n",
       "      <td>11862</td>\n",
       "      <td>Father of the Bride Part II</td>\n",
       "      <td>Charles Shyer</td>\n",
       "      <td>Comedy</td>\n",
       "      <td>Sandollar Productions,Touchstone Pictures</td>\n",
       "      <td>5.7</td>\n",
       "      <td>Charles Shyer Comedy Sandollar Productions Tou...</td>\n",
       "    </tr>\n",
       "    <tr>\n",
       "      <th>...</th>\n",
       "      <td>...</td>\n",
       "      <td>...</td>\n",
       "      <td>...</td>\n",
       "      <td>...</td>\n",
       "      <td>...</td>\n",
       "      <td>...</td>\n",
       "      <td>...</td>\n",
       "    </tr>\n",
       "    <tr>\n",
       "      <th>9995</th>\n",
       "      <td>18240</td>\n",
       "      <td>The Proposal</td>\n",
       "      <td>Anne Fletcher</td>\n",
       "      <td>Comedy,Romance,Drama</td>\n",
       "      <td>Touchstone Pictures,Mandeville Films,Kurtzman/...</td>\n",
       "      <td>6.7</td>\n",
       "      <td>Anne Fletcher Comedy Romance Drama Touchstone ...</td>\n",
       "    </tr>\n",
       "    <tr>\n",
       "      <th>9996</th>\n",
       "      <td>28110</td>\n",
       "      <td>Dillinger</td>\n",
       "      <td>John Milius</td>\n",
       "      <td>Action,Crime,Drama</td>\n",
       "      <td>American International Pictures (AIP)</td>\n",
       "      <td>6.7</td>\n",
       "      <td>John Milius Action Crime Drama American Intern...</td>\n",
       "    </tr>\n",
       "    <tr>\n",
       "      <th>9997</th>\n",
       "      <td>17610</td>\n",
       "      <td>Year One</td>\n",
       "      <td>Harold Ramis</td>\n",
       "      <td>Comedy,Adventure</td>\n",
       "      <td>Columbia Pictures,Ocean Pictures,Apatow Produc...</td>\n",
       "      <td>4.6</td>\n",
       "      <td>Harold Ramis Comedy Adventure Columbia Picture...</td>\n",
       "    </tr>\n",
       "    <tr>\n",
       "      <th>9998</th>\n",
       "      <td>8933</td>\n",
       "      <td>O'Horten</td>\n",
       "      <td>Bent Hamer</td>\n",
       "      <td>Drama,Comedy</td>\n",
       "      <td>Bulbul Films</td>\n",
       "      <td>6.1</td>\n",
       "      <td>Bent Hamer Drama Comedy Bulbul Films</td>\n",
       "    </tr>\n",
       "    <tr>\n",
       "      <th>9999</th>\n",
       "      <td>8269</td>\n",
       "      <td>Promise Me This</td>\n",
       "      <td>Emir Kusturica</td>\n",
       "      <td>Romance,Drama,Comedy</td>\n",
       "      <td>Rasta International</td>\n",
       "      <td>6.4</td>\n",
       "      <td>Emir Kusturica Romance Drama Comedy Rasta Inte...</td>\n",
       "    </tr>\n",
       "  </tbody>\n",
       "</table>\n",
       "<p>10000 rows × 7 columns</p>\n",
       "</div>"
      ],
      "text/plain": [
       "         id                        title        directors  \\\n",
       "0       862                    Toy Story    John Lasseter   \n",
       "1      8844                      Jumanji     Joe Johnston   \n",
       "2     15602             Grumpier Old Men    Howard Deutch   \n",
       "3     31357            Waiting to Exhale  Forest Whitaker   \n",
       "4     11862  Father of the Bride Part II    Charles Shyer   \n",
       "...     ...                          ...              ...   \n",
       "9995  18240                 The Proposal    Anne Fletcher   \n",
       "9996  28110                    Dillinger      John Milius   \n",
       "9997  17610                     Year One     Harold Ramis   \n",
       "9998   8933                     O'Horten       Bent Hamer   \n",
       "9999   8269              Promise Me This   Emir Kusturica   \n",
       "\n",
       "                   genres_list  \\\n",
       "0      Animation,Comedy,Family   \n",
       "1     Adventure,Fantasy,Family   \n",
       "2               Romance,Comedy   \n",
       "3         Comedy,Drama,Romance   \n",
       "4                       Comedy   \n",
       "...                        ...   \n",
       "9995      Comedy,Romance,Drama   \n",
       "9996        Action,Crime,Drama   \n",
       "9997          Comedy,Adventure   \n",
       "9998              Drama,Comedy   \n",
       "9999      Romance,Drama,Comedy   \n",
       "\n",
       "                                         prod_companies  vote_average  \\\n",
       "0                               Pixar Animation Studios           7.7   \n",
       "1     TriStar Pictures,Teitler Film,Interscope Commu...           6.9   \n",
       "2                           Warner Bros.,Lancaster Gate           6.5   \n",
       "3                Twentieth Century Fox Film Corporation           6.1   \n",
       "4             Sandollar Productions,Touchstone Pictures           5.7   \n",
       "...                                                 ...           ...   \n",
       "9995  Touchstone Pictures,Mandeville Films,Kurtzman/...           6.7   \n",
       "9996              American International Pictures (AIP)           6.7   \n",
       "9997  Columbia Pictures,Ocean Pictures,Apatow Produc...           4.6   \n",
       "9998                                       Bulbul Films           6.1   \n",
       "9999                                Rasta International           6.4   \n",
       "\n",
       "                                           grouped_data  \n",
       "0     John Lasseter Animation Comedy Family Pixar An...  \n",
       "1     Joe Johnston Adventure Fantasy Family TriStar ...  \n",
       "2     Howard Deutch Romance Comedy Warner Bros. Lanc...  \n",
       "3     Forest Whitaker Comedy Drama Romance Twentieth...  \n",
       "4     Charles Shyer Comedy Sandollar Productions Tou...  \n",
       "...                                                 ...  \n",
       "9995  Anne Fletcher Comedy Romance Drama Touchstone ...  \n",
       "9996  John Milius Action Crime Drama American Intern...  \n",
       "9997  Harold Ramis Comedy Adventure Columbia Picture...  \n",
       "9998               Bent Hamer Drama Comedy Bulbul Films  \n",
       "9999  Emir Kusturica Romance Drama Comedy Rasta Inte...  \n",
       "\n",
       "[10000 rows x 7 columns]"
      ]
     },
     "execution_count": 9,
     "metadata": {},
     "output_type": "execute_result"
    }
   ],
   "source": [
    "reduced_data "
   ]
  },
  {
   "cell_type": "markdown",
   "metadata": {},
   "source": [
    "We set the data in grouped_data as our combined_data"
   ]
  },
  {
   "cell_type": "code",
   "execution_count": 14,
   "metadata": {},
   "outputs": [],
   "source": [
    "combined_data = reduced_data['grouped_data']"
   ]
  },
  {
   "cell_type": "markdown",
   "metadata": {},
   "source": [
    "Create the classification matrix and calculate the cosine similarity matrix"
   ]
  },
  {
   "cell_type": "code",
   "execution_count": 15,
   "metadata": {},
   "outputs": [
    {
     "data": {
      "text/plain": [
       "['_src/data/cosine_sim.pkl']"
      ]
     },
     "execution_count": 15,
     "metadata": {},
     "output_type": "execute_result"
    }
   ],
   "source": [
    "vectorizer = CountVectorizer()\n",
    "\n",
    "classification_matrix = vectorizer.fit_transform(combined_data)\n",
    "\n",
    "cosine_sim = cosine_similarity(classification_matrix)\n",
    "\n",
    "# storage the cosine similarity matrix as a compressed file with joblib\n",
    "joblib.dump(cosine_sim, '_src/data/cosine_sim.pkl', compress=True)\n"
   ]
  },
  {
   "cell_type": "markdown",
   "metadata": {},
   "source": [
    "We make the recommendation function"
   ]
  },
  {
   "cell_type": "code",
   "execution_count": 424,
   "metadata": {},
   "outputs": [],
   "source": [
    "def get_recommendation(title: str, n: int = 5):\n",
    "    indices = reduced_data[reduced_data['title'] == title].index[0]\n",
    "\n",
    "    sim_scores = list(enumerate(cosine_sim[indices]))\n",
    "\n",
    "    sim_scores = sorted(sim_scores, key=lambda x: x[1], reverse=True)\n",
    "\n",
    "    top_recommendations = [(reduced_data.iloc[i[0]].title, reduced_data.iloc[i[0]].vote_average,reduced_data.iloc[i[0]].genres_list,reduced_data.iloc[i[0]].directors) for i in sim_scores[1:6]]\n",
    "\n",
    "    return {\"title\": title, \"recommendations\": top_recommendations}"
   ]
  },
  {
   "cell_type": "code",
   "execution_count": 432,
   "metadata": {},
   "outputs": [
    {
     "data": {
      "text/plain": [
       "{'title': 'Cinderella',\n",
       " 'recommendations': [('Alice in Wonderland',\n",
       "   7.0,\n",
       "   'Animation,Adventure,Family,Fantasy',\n",
       "   'Hamilton Luske,Wilfred Jackson,Clyde Geronimi'),\n",
       "  ('Peter Pan',\n",
       "   7.0,\n",
       "   'Animation,Music,Family,Adventure,Fantasy',\n",
       "   'Clyde Geronimi,Wilfred Jackson,Hamilton Luske'),\n",
       "  ('Melody Time',\n",
       "   6.3,\n",
       "   'Music,Family,Animation',\n",
       "   'Clyde Geronimi,Jack Kinney,Wilfred Jackson,Hamilton Luske'),\n",
       "  ('Lady and the Tramp',\n",
       "   6.9,\n",
       "   'Family,Animation',\n",
       "   'Hamilton Luske,Wilfred Jackson,Clyde Geronimi'),\n",
       "  ('Saludos Amigos',\n",
       "   5.8,\n",
       "   'Animation,Family',\n",
       "   'William Roberts,Hamilton Luske,Wilfred Jackson,Jack Kinney')]}"
      ]
     },
     "execution_count": 432,
     "metadata": {},
     "output_type": "execute_result"
    }
   ],
   "source": [
    "get_recommendation('Cinderella')"
   ]
  },
  {
   "cell_type": "code",
   "execution_count": null,
   "metadata": {},
   "outputs": [],
   "source": []
  }
 ],
 "metadata": {
  "kernelspec": {
   "display_name": "Python 3",
   "language": "python",
   "name": "python3"
  },
  "language_info": {
   "codemirror_mode": {
    "name": "ipython",
    "version": 3
   },
   "file_extension": ".py",
   "mimetype": "text/x-python",
   "name": "python",
   "nbconvert_exporter": "python",
   "pygments_lexer": "ipython3",
   "version": "3.11.0"
  },
  "orig_nbformat": 4
 },
 "nbformat": 4,
 "nbformat_minor": 2
}
