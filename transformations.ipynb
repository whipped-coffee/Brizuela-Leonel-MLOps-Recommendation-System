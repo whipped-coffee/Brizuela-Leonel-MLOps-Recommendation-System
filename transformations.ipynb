{
 "cells": [
  {
   "cell_type": "code",
   "execution_count": null,
   "metadata": {},
   "outputs": [],
   "source": [
    "import pandas as pd"
   ]
  },
  {
   "attachments": {},
   "cell_type": "markdown",
   "metadata": {},
   "source": [
    "Import the dataset as a DataFrame and storage it in the data variable"
   ]
  },
  {
   "cell_type": "code",
   "execution_count": null,
   "metadata": {},
   "outputs": [],
   "source": [
    "data = pd.read_csv('_src/data/movies_dataset.csv', encoding='UTF-8', delimiter=',', )"
   ]
  },
  {
   "attachments": {},
   "cell_type": "markdown",
   "metadata": {},
   "source": [
    "Import the credits dataset for later on extract the director name"
   ]
  },
  {
   "cell_type": "code",
   "execution_count": null,
   "metadata": {},
   "outputs": [],
   "source": [
    "credits = pd.read_csv('_src/data/credits.csv')\n",
    "credits.drop(columns=['cast'], inplace=True)"
   ]
  },
  {
   "attachments": {},
   "cell_type": "markdown",
   "metadata": {},
   "source": [
    "Transforme id into a integer"
   ]
  },
  {
   "cell_type": "code",
   "execution_count": null,
   "metadata": {},
   "outputs": [],
   "source": [
    "try:\n",
    "    data['id'].astype(int)\n",
    "except ValueError as e:\n",
    "    print(e)"
   ]
  },
  {
   "attachments": {},
   "cell_type": "markdown",
   "metadata": {},
   "source": [
    "We can see that the data is all wrong, so we drop it"
   ]
  },
  {
   "cell_type": "code",
   "execution_count": null,
   "metadata": {},
   "outputs": [],
   "source": [
    "data.drop(data.loc[data['id'].str.contains('-', regex=True)].index, inplace=True)"
   ]
  },
  {
   "cell_type": "code",
   "execution_count": null,
   "metadata": {},
   "outputs": [],
   "source": [
    "data['id'] = data['id'].astype(int)"
   ]
  },
  {
   "attachments": {},
   "cell_type": "markdown",
   "metadata": {},
   "source": [
    "Merge the dataframes so we work with only 1"
   ]
  },
  {
   "cell_type": "code",
   "execution_count": null,
   "metadata": {},
   "outputs": [],
   "source": [
    "data = pd.merge(data,credits, on='id')"
   ]
  },
  {
   "attachments": {},
   "cell_type": "markdown",
   "metadata": {},
   "source": [
    "Drop the innecesary columns"
   ]
  },
  {
   "cell_type": "code",
   "execution_count": null,
   "metadata": {},
   "outputs": [],
   "source": [
    "data.drop(columns=['adult','homepage','imdb_id','original_title','poster_path','video','spoken_languages'], inplace = True)"
   ]
  },
  {
   "attachments": {},
   "cell_type": "markdown",
   "metadata": {},
   "source": [
    "### Extract the nested data that we need and create its dataframe's columns ### "
   ]
  },
  {
   "attachments": {},
   "cell_type": "markdown",
   "metadata": {},
   "source": [
    "Nested data in 'belongs_to_collection'"
   ]
  },
  {
   "cell_type": "code",
   "execution_count": null,
   "metadata": {},
   "outputs": [],
   "source": [
    "#Crate the new columns of the DataFrame\n",
    "data['collection_name'] = 0\n",
    "\n",
    "#Asign to the new columns the values in belongs_to_collecition < id and name\n",
    "for i in range(len(data['belongs_to_collection'])):\n",
    "    if (len(str(data['belongs_to_collection'][i])) > 10):\n",
    "        data['belongs_to_collection'][i] = data['belongs_to_collection'][i].split(',')\n",
    "        data.loc[i, 'collection_name'] = data['belongs_to_collection'][i][1][10:-1]\n",
    "\n",
    "#Drop belongs_to_collection\n",
    "data.drop(columns = 'belongs_to_collection', inplace = True)"
   ]
  },
  {
   "attachments": {},
   "cell_type": "markdown",
   "metadata": {},
   "source": [
    "nested data in 'crew'"
   ]
  },
  {
   "cell_type": "code",
   "execution_count": null,
   "metadata": {},
   "outputs": [],
   "source": [
    "def extract_directors(crew_str):\n",
    "    member_dict = ast.literal_eval(crew_str)\n",
    "    directors = [member_dict[i]['name'] for i in range(len(member_dict)) if member_dict[i]['job'] == 'Director']\n",
    "    return ','.join(directors)\n",
    "\n",
    "data['directors'] = data['crew'].apply(extract_directors)"
   ]
  },
  {
   "attachments": {},
   "cell_type": "markdown",
   "metadata": {},
   "source": [
    "Nested data in 'genres'"
   ]
  },
  {
   "cell_type": "code",
   "execution_count": null,
   "metadata": {},
   "outputs": [],
   "source": [
    "# Define a function to extract genre names from genres\n",
    "def extract_genre_names(genres_str):\n",
    "    if(len(str(genres_str)) > 4):\n",
    "        genre_list = genres_str.split(',')\n",
    "        genre_names = [element.strip(']')[10:-2] for element in genre_list if element[2:6] == 'name']\n",
    "        return ','.join(genre_names)\n",
    "\n",
    "# Apply the function to create the 'genres_list' column\n",
    "data['genres_list'] = data['genres'].apply(extract_genre_names)\n",
    "\n",
    "# Drop 'genres' column\n",
    "data.drop(columns='genres', inplace=True)"
   ]
  },
  {
   "attachments": {},
   "cell_type": "markdown",
   "metadata": {},
   "source": [
    "Nested data in 'production_companies'"
   ]
  },
  {
   "cell_type": "code",
   "execution_count": null,
   "metadata": {},
   "outputs": [],
   "source": [
    "#Crate the new columns of the DataFrame\n",
    "data['prod_companies'] = ''\n",
    "\n",
    "def extract_comp_names(comp_str):\n",
    "    if(len(str(comp_str)) > 4):\n",
    "        genre_list = comp_str.split(',')\n",
    "        comp_names = [element.strip(']')[11:-1] for element in genre_list if element[3:7] == 'name']\n",
    "        return ','.join(comp_names)\n",
    "\n",
    "# Apply the function to create the 'genres_list' column\n",
    "data['prod_companies'] = data['production_companies'].apply(extract_comp_names)\n",
    "\n",
    "# Drop 'genres' column\n",
    "data.drop(columns='production_companies', inplace = True)\n",
    "\n",
    "data['prod_companies'].fillna('None', inplace = True)"
   ]
  },
  {
   "attachments": {},
   "cell_type": "markdown",
   "metadata": {},
   "source": [
    "Nested data in 'production_countries'"
   ]
  },
  {
   "cell_type": "code",
   "execution_count": null,
   "metadata": {},
   "outputs": [],
   "source": [
    "def extract_countries_names(country_str):\n",
    "    if(len(str(country_str)) > 4):\n",
    "        # countries_list = country_str.str.strip('([])')\n",
    "        countries_list = country_str.split(',')\n",
    "        countries_names = [element.strip(\"]\")[10:-2] for element in countries_list if element[2:6] == 'name']\n",
    "        return ','.join(countries_names)\n",
    "\n",
    "data['prod_countries'] = data['production_countries'].apply(extract_countries_names)\n",
    "\n",
    "data.drop(columns = 'production_countries')"
   ]
  },
  {
   "attachments": {},
   "cell_type": "markdown",
   "metadata": {},
   "source": [
    "Nested data in 'original_language'"
   ]
  },
  {
   "cell_type": "code",
   "execution_count": null,
   "metadata": {},
   "outputs": [],
   "source": [
    "# data['release_language'] = data['spoken_languages'].apply(lambda x: x.split(',')[1][10:-2].strip(\"'\") if len(str(x)) > 4 else '')\n",
    "\n",
    "# data.drop(columns='spoken_languages', inplace=True)"
   ]
  },
  {
   "cell_type": "code",
   "execution_count": null,
   "metadata": {},
   "outputs": [],
   "source": [
    "data.head(7)"
   ]
  },
  {
   "attachments": {},
   "cell_type": "markdown",
   "metadata": {},
   "source": [
    "Create a column 'return' with the return of investmen. (revenue / budget). In case that there is no data to operate it has to take the value '0' "
   ]
  },
  {
   "attachments": {},
   "cell_type": "markdown",
   "metadata": {},
   "source": [
    "Fill the nulls values in budget and revenue with 0"
   ]
  },
  {
   "cell_type": "code",
   "execution_count": null,
   "metadata": {},
   "outputs": [],
   "source": [
    "fill_values = {'revenue': 0, 'budget': 0}\n",
    "data.fillna(fill_values, inplace=True)"
   ]
  },
  {
   "attachments": {},
   "cell_type": "markdown",
   "metadata": {},
   "source": [
    "Now that we have all the data, we change the dtypes of the necesary columns to make the operations"
   ]
  },
  {
   "cell_type": "code",
   "execution_count": null,
   "metadata": {},
   "outputs": [],
   "source": [
    "int_columns = ['budget','revenue']\n",
    "float_columns = ['popularity','vote_average']\n",
    "\n",
    "data[int_columns] = data[int_columns].astype(int)\n",
    "data[float_columns] = data[float_columns].astype(float)"
   ]
  },
  {
   "attachments": {},
   "cell_type": "markdown",
   "metadata": {},
   "source": [
    "Create the 'return' column"
   ]
  },
  {
   "cell_type": "code",
   "execution_count": null,
   "metadata": {},
   "outputs": [],
   "source": [
    "data['return'] = round(data['revenue'] / data['budget'],2)"
   ]
  },
  {
   "cell_type": "code",
   "execution_count": null,
   "metadata": {},
   "outputs": [],
   "source": [
    "data.loc[data['return'] == float('inf'), 'return'] = data['revenue']"
   ]
  },
  {
   "attachments": {},
   "cell_type": "markdown",
   "metadata": {},
   "source": [
    "The dates has to have the format AAAA-mm-dd, and with that create the column release_year where we will extract the year of release"
   ]
  },
  {
   "cell_type": "code",
   "execution_count": null,
   "metadata": {},
   "outputs": [],
   "source": [
    "data['release_date'] = pd.to_datetime(data['release_date'])\n",
    "data.dropna(subset=['release_date'], inplace=True)\n",
    "data['release_year'] = data['release_date'].dt.year"
   ]
  },
  {
   "cell_type": "code",
   "execution_count": null,
   "metadata": {},
   "outputs": [],
   "source": [
    "new_columns = ['collection_name','directors', 'genres_list', 'id', \n",
    "               'title', 'prod_companies', 'prod_countries', 'original_language', \n",
    "               'release_language', 'overview', 'popularity', 'release_date','release_year', 'runtime', \n",
    "               'status', 'tagline', 'vote_average', 'vote_count', 'budget', 'revenue','return']\n",
    "data = data.reindex(columns = new_columns)"
   ]
  },
  {
   "cell_type": "code",
   "execution_count": null,
   "metadata": {},
   "outputs": [],
   "source": [
    "data.loc[data['prod_companies'].isna(), 'title']"
   ]
  },
  {
   "attachments": {},
   "cell_type": "markdown",
   "metadata": {},
   "source": [
    "Drop the movies with no release_date"
   ]
  },
  {
   "cell_type": "code",
   "execution_count": null,
   "metadata": {},
   "outputs": [],
   "source": [
    "data.drop(data.loc[data['release_date'].isna()].index, inplace=True)"
   ]
  },
  {
   "cell_type": "code",
   "execution_count": null,
   "metadata": {},
   "outputs": [],
   "source": [
    "data.to_csv('_src/data/movies_transformed.csv', index=False)"
   ]
  }
 ],
 "metadata": {
  "kernelspec": {
   "display_name": "Python 3",
   "language": "python",
   "name": "python3"
  },
  "language_info": {
   "codemirror_mode": {
    "name": "ipython",
    "version": 3
   },
   "file_extension": ".py",
   "mimetype": "text/x-python",
   "name": "python",
   "nbconvert_exporter": "python",
   "pygments_lexer": "ipython3",
   "version": "3.11.0"
  },
  "orig_nbformat": 4
 },
 "nbformat": 4,
 "nbformat_minor": 2
}
